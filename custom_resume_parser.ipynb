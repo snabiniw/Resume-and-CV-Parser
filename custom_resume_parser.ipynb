{
 "cells": [
  {
   "cell_type": "code",
   "execution_count": 1,
   "id": "7a2de02c",
   "metadata": {},
   "outputs": [],
   "source": [
    "import os\n",
    "import utils\n",
    "import spacy\n",
    "import pprint\n",
    "from spacy.matcher import Matcher\n",
    "import multiprocessing as mp\n",
    "\n",
    "class ResumeParser(object):\n",
    "    def __init__(self, resume):\n",
    "        nlp = spacy.load('en_core_web_sm')\n",
    "        self.__matcher = Matcher(nlp.vocab)\n",
    "        self.__details = {\n",
    "            'name'         : None,\n",
    "            'email'        : None,\n",
    "            'mobile_number': None,\n",
    "            'skills'       : None,\n",
    "            'education'    : None,\n",
    "            'experience'   : None,\n",
    "        }\n",
    "        self.__resume      = resume\n",
    "        self.__text        = utils.extract_text(self.__resume, os.path.splitext(self.__resume)[1])\n",
    "        self.__text        = ' '.join(self.__text.split())\n",
    "        self.__nlp         = nlp(self.__text)\n",
    "        self.__noun_chunks = list(self.__nlp.noun_chunks)\n",
    "        self.__get_basic_details()\n",
    "\n",
    "    def get_extracted_data(self):\n",
    "        return self.__details\n",
    "\n",
    "    def __get_basic_details(self):\n",
    "        name       = utils.extract_name(self.__nlp, matcher=self.__matcher)\n",
    "        email      = utils.extract_email(self.__text)\n",
    "        mobile     = utils.extract_mobile_number(self.__text)\n",
    "        skills     = utils.extract_skills(self.__nlp, self.__noun_chunks)\n",
    "        edu        = utils.extract_education([sent.string.strip() for sent in self.__nlp.sents])\n",
    "        experience = utils.extract_experience(self.__text)\n",
    "        self.__details['name'] = name\n",
    "        self.__details['email'] = email\n",
    "        self.__details['mobile_number'] = mobile\n",
    "        self.__details['skills'] = skills\n",
    "        self.__details['education'] = edu\n",
    "        self.__details['experience'] = experience\n",
    "        return\n",
    "\n",
    "def resume_result_wrapper(resume):\n",
    "        parser = ResumeParser(resume)\n",
    "        return parser.get_extracted_data()"
   ]
  },
  {
   "cell_type": "code",
   "execution_count": null,
   "id": "9d2aedc1",
   "metadata": {},
   "outputs": [
    {
     "name": "stderr",
     "output_type": "stream",
     "text": [
      "Exception in thread Thread-6:\n",
      "Traceback (most recent call last):\n",
      "  File \"/usr/lib/python3.8/threading.py\", line 932, in _bootstrap_inner\n",
      "    self.run()\n",
      "  File \"/usr/lib/python3.8/threading.py\", line 870, in run\n",
      "    self._target(*self._args, **self._kwargs)\n",
      "  File \"/usr/lib/python3.8/multiprocessing/pool.py\", line 576, in _handle_results\n",
      "    task = get()\n",
      "  File \"/usr/lib/python3.8/multiprocessing/connection.py\", line 251, in recv\n",
      "    return _ForkingPickler.loads(buf.getbuffer())\n",
      "TypeError: __init__() missing 1 required positional argument: 'errors'\n"
     ]
    }
   ],
   "source": [
    "if __name__ == '__main__':\n",
    "    pool = mp.Pool(mp.cpu_count())\n",
    "\n",
    "    resumes = ['CV-Sunil-Ghimire.pdf']\n",
    "    data = []\n",
    "    for root, directories, filenames in os.walk('resumes'):\n",
    "        for filename in filenames:\n",
    "            file = os.path.join(root, filename)\n",
    "            resumes.append(file)\n",
    "\n",
    "    results = [pool.apply_async(resume_result_wrapper, args=(x,)) for x in resumes]\n",
    "\n",
    "    results = [p.get() for p in results]\n",
    "\n",
    "    pprint.pprint(results)"
   ]
  },
  {
   "cell_type": "code",
   "execution_count": null,
   "id": "8ddda330",
   "metadata": {},
   "outputs": [],
   "source": []
  }
 ],
 "metadata": {
  "kernelspec": {
   "display_name": "Python 3",
   "language": "python",
   "name": "python3"
  },
  "language_info": {
   "codemirror_mode": {
    "name": "ipython",
    "version": 3
   },
   "file_extension": ".py",
   "mimetype": "text/x-python",
   "name": "python",
   "nbconvert_exporter": "python",
   "pygments_lexer": "ipython3",
   "version": "3.8.10"
  }
 },
 "nbformat": 4,
 "nbformat_minor": 5
}
